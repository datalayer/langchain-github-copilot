{
 "cells": [
  {
   "cell_type": "raw",
   "id": "afaf8039",
   "metadata": {},
   "source": [
    "---\n",
    "sidebar_label: GitHubCopilot\n",
    "---"
   ]
  },
  {
   "cell_type": "markdown",
   "id": "e49f1e0d",
   "metadata": {},
   "source": [
    "# ChatGitHubCopilot\n",
    "\n",
    "This will help you getting started with GitHubCopilot [chat models](/docs/concepts/#chat-models). For detailed documentation of all ChatGitHubCopilot features and configurations head to the [API reference](https://api.python.langchain.com/en/latest/chat_models/langchain_github_copilot.chat_models.ChatGitHubCopilot.html).\n",
    "\n",
    "## Overview\n",
    "### Integration details\n",
    "\n",
    "| Class | Package | Local | Serializable | JS support| Package downloads | Package latest |\n",
    "| :--- | :--- | :---: | :---: |  :---: | :---: | :---: |\n",
    "| [ChatGitHubCopilot](https://api.python.langchain.com/en/latest/chat_models/langchain_github_copilot.chat_models.ChatGitHubCopilot.html) | [langchain-github-copilot](https://api.python.langchain.com/en/latest/github_copilot_api_reference.html) | ❌ | ❌ | ❌ | ![PyPI - Downloads](https://img.shields.io/pypi/dm/langchain-github-copilot?style=flat-square&label=%20) | ![PyPI - Version](https://img.shields.io/pypi/v/langchain-github-copilot?style=flat-square&label=%20) |\n",
    "\n",
    "### Model features\n",
    "| [Tool calling](/docs/how_to/tool_calling) | [Structured output](/docs/how_to/structured_output/) | JSON mode | [Image input](/docs/how_to/multimodal_inputs/) | Audio input | Video input | [Token-level streaming](/docs/how_to/chat_streaming/) | Native async | [Token usage](/docs/how_to/chat_token_usage_tracking/) | [Logprobs](/docs/how_to/logprobs/) |\n",
    "| :---: | :---: | :---: | :---: |  :---: | :---: | :---: | :---: | :---: | :---: |\n",
    "| ❌ | ❌ | ❌ | ❌ | ❌ | ❌ | ❌ | ❌ | ✅ | ❌ | \n",
    "\n",
    "## Setup\n",
    "\n",
    "To access GitHubCopilot models you'll need to create a GitHub account, get a GitHub token, and install the `langchain-github-copilot` integration package.\n",
    "\n",
    "### Credentials\n",
    "\n",
    "Use the following function to set up your GitHub Token as an environment variable."
   ]
  },
  {
   "cell_type": "code",
   "execution_count": null,
   "id": "c5037ca9",
   "metadata": {},
   "outputs": [],
   "source": [
    "import requests\n",
    "import time\n",
    "\n",
    "GITHUB_CLIENT_ID = \"Iv1.b507a08c87ecfe98\"\n",
    "HEADERS = {\n",
    "    'accept': 'application/json',\n",
    "    'editor-version': 'Neovim/0.6.1',\n",
    "    'editor-plugin-version': 'copilot.vim/1.16.0',\n",
    "    'content-type': 'application/json',\n",
    "    'user-agent': 'GitHubCopilot/1.155.0',\n",
    "    'accept-encoding': 'gzip,deflate,br'\n",
    "}\n",
    "\n",
    "def setup():\n",
    "    access_token = get_access_token()\n",
    "    token = get_token(access_token)\n",
    "    \n",
    "    with open('.env', 'a') as f:\n",
    "        f.write(f'\\nGITHUB_TOKEN=\"{token}\"\\n')\n",
    "\n",
    "    print('Authentication success!')\n",
    "\n",
    "def get_token(access_token):\n",
    "    response = requests.get(\n",
    "        'https://api.github.com/copilot_internal/v2/token',\n",
    "        headers={**HEADERS, 'authorization': f'token {access_token}'}\n",
    "    )\n",
    "    response.raise_for_status()\n",
    "    return response.json().get('token')\n",
    "\n",
    "def get_access_token():\n",
    "    response = requests.post(\n",
    "        'https://github.com/login/device/code',\n",
    "        headers=HEADERS,\n",
    "        json={'client_id': GITHUB_CLIENT_ID, 'scope': 'read:user'}\n",
    "    )\n",
    "    response.raise_for_status()\n",
    "    data = response.json()\n",
    "    device_code = data.get('device_code')\n",
    "    user_code = data.get('user_code')\n",
    "    verification_uri = data.get('verification_uri')\n",
    "\n",
    "    print(f'Please visit {verification_uri} and enter code {user_code} to authenticate.')\n",
    "\n",
    "    while True:\n",
    "        time.sleep(5)\n",
    "        response = requests.post(\n",
    "            'https://github.com/login/oauth/access_token',\n",
    "            headers=HEADERS,\n",
    "            json={\n",
    "                'client_id': GITHUB_CLIENT_ID,\n",
    "                'device_code': device_code,\n",
    "                'grant_type': 'urn:ietf:params:oauth:grant-type:device_code'\n",
    "            }\n",
    "        )\n",
    "        response.raise_for_status()\n",
    "        access_token = response.json().get('access_token')\n",
    "        if access_token:\n",
    "            return access_token"
   ]
  },
  {
   "cell_type": "markdown",
   "id": "72ee0c4b-9764-423a-9dbf-95129e185210",
   "metadata": {},
   "source": [
    "If you want to get automated tracing of your model calls you can also set your [LangSmith](https://docs.smith.langchain.com/) API key by uncommenting below:"
   ]
  },
  {
   "cell_type": "code",
   "execution_count": null,
   "id": "a15d341e-3e26-4ca3-830b-5aab30ed66de",
   "metadata": {},
   "outputs": [],
   "source": [
    "# os.environ[\"LANGCHAIN_TRACING_V2\"] = \"true\"\n",
    "# os.environ[\"LANGCHAIN_API_KEY\"] = getpass.getpass(\"Enter your LangSmith API key: \")"
   ]
  },
  {
   "cell_type": "markdown",
   "id": "0730d6a1-c893-4840-9817-5e5251676d5d",
   "metadata": {},
   "source": [
    "### Installation\n",
    "\n",
    "The LangChain GitHubCopilot integration lives in the `langchain-github-copilot` package:"
   ]
  },
  {
   "cell_type": "code",
   "execution_count": null,
   "id": "652d6238-1f87-422a-b135-f5abbb8652fc",
   "metadata": {},
   "outputs": [],
   "source": [
    "%pip install -qU langchain-github-copilot"
   ]
  },
  {
   "cell_type": "markdown",
   "id": "a38cde65-254d-4219-a441-068766c0d4b5",
   "metadata": {},
   "source": [
    "## Instantiation\n",
    "\n",
    "Now we can instantiate our model object and generate chat completions:"
   ]
  },
  {
   "cell_type": "code",
   "execution_count": 1,
   "id": "7c068237",
   "metadata": {},
   "outputs": [
    {
     "data": {
      "text/plain": [
       "True"
      ]
     },
     "execution_count": 1,
     "metadata": {},
     "output_type": "execute_result"
    }
   ],
   "source": [
    "from dotenv import load_dotenv\n",
    "\n",
    "load_dotenv()"
   ]
  },
  {
   "cell_type": "code",
   "execution_count": 3,
   "id": "cb09c344-1836-4e0c-acf8-11d13ac1dbae",
   "metadata": {},
   "outputs": [],
   "source": [
    "from langchain_github_copilot import ChatGitHubCopilot\n",
    "\n",
    "llm = ChatGitHubCopilot(\n",
    "    temperature=0.9,\n",
    "    max_tokens=100,\n",
    "    timeout= None,\n",
    "    stop= [\"<END>\"]\n",
    ")"
   ]
  },
  {
   "cell_type": "markdown",
   "id": "2b4f3e15",
   "metadata": {},
   "source": [
    "## Invocation"
   ]
  },
  {
   "cell_type": "code",
   "execution_count": 4,
   "id": "62e0dbc3",
   "metadata": {
    "tags": []
   },
   "outputs": [
    {
     "data": {
      "text/plain": [
       "AIMessage(content=\"J'adore la programmation.\", additional_kwargs={}, response_metadata={'token_usage': {'completion_tokens': 5, 'completion_tokens_details': {'accepted_prediction_tokens': 0, 'audio_tokens': 0, 'reasoning_tokens': 0, 'rejected_prediction_tokens': 0}, 'prompt_tokens': 31, 'prompt_tokens_details': {'audio_tokens': 0, 'cached_tokens': 0}, 'total_tokens': 36}, 'model_name': 'gpt-4o-2024-05-13', 'system_fingerprint': 'fp_b705f0c291', 'finish_reason': 'stop'}, id='run-a3651d31-79e6-4318-bc76-109af65c4213-0', usage_metadata={'input_tokens': 31, 'output_tokens': 5, 'total_tokens': 36, 'input_token_details': {'audio': 0, 'cache_read': 0}, 'output_token_details': {'audio': 0, 'reasoning': 0}})"
      ]
     },
     "execution_count": 4,
     "metadata": {},
     "output_type": "execute_result"
    }
   ],
   "source": [
    "messages = [\n",
    "    (\n",
    "        \"system\",\n",
    "        \"You are a helpful assistant that translates English to French. Translate the user sentence.\",\n",
    "    ),\n",
    "    (\"human\", \"I love programming.\"),\n",
    "]\n",
    "ai_msg = llm.invoke(messages)\n",
    "ai_msg"
   ]
  },
  {
   "cell_type": "code",
   "execution_count": 5,
   "id": "d86145b3-bfef-46e8-b227-4dda5c9c2705",
   "metadata": {},
   "outputs": [
    {
     "name": "stdout",
     "output_type": "stream",
     "text": [
      "J'adore la programmation.\n"
     ]
    }
   ],
   "source": [
    "print(ai_msg.content)"
   ]
  },
  {
   "cell_type": "markdown",
   "id": "18e2bfc0-7e78-4528-a73f-499ac150dca8",
   "metadata": {},
   "source": [
    "## Chaining\n",
    "\n",
    "We can [chain](/docs/how_to/sequence/) our model with a prompt template like so:"
   ]
  },
  {
   "cell_type": "code",
   "execution_count": 6,
   "id": "e197d1d7-a070-4c96-9f8a-a0e86d046e0b",
   "metadata": {},
   "outputs": [
    {
     "data": {
      "text/plain": [
       "AIMessage(content='Ich liebe Programmieren.', additional_kwargs={}, response_metadata={'token_usage': {'completion_tokens': 5, 'completion_tokens_details': {'accepted_prediction_tokens': 0, 'audio_tokens': 0, 'reasoning_tokens': 0, 'rejected_prediction_tokens': 0}, 'prompt_tokens': 26, 'prompt_tokens_details': {'audio_tokens': 0, 'cached_tokens': 0}, 'total_tokens': 31}, 'model_name': 'gpt-4o-2024-05-13', 'system_fingerprint': 'fp_b705f0c291', 'finish_reason': 'stop'}, id='run-04da3104-cac8-44c7-8c9b-a89d4c1f9f51-0', usage_metadata={'input_tokens': 26, 'output_tokens': 5, 'total_tokens': 31, 'input_token_details': {'audio': 0, 'cache_read': 0}, 'output_token_details': {'audio': 0, 'reasoning': 0}})"
      ]
     },
     "execution_count": 6,
     "metadata": {},
     "output_type": "execute_result"
    }
   ],
   "source": [
    "from langchain_core.prompts import ChatPromptTemplate\n",
    "\n",
    "prompt = ChatPromptTemplate(\n",
    "    [\n",
    "        (\n",
    "            \"system\",\n",
    "            \"You are a helpful assistant that translates {input_language} to {output_language}.\",\n",
    "        ),\n",
    "        (\"human\", \"{input}\"),\n",
    "    ]\n",
    ")\n",
    "\n",
    "chain = prompt | llm\n",
    "chain.invoke(\n",
    "    {\n",
    "        \"input_language\": \"English\",\n",
    "        \"output_language\": \"German\",\n",
    "        \"input\": \"I love programming.\",\n",
    "    }\n",
    ")"
   ]
  },
  {
   "cell_type": "markdown",
   "id": "3a5bb5ca-c3ae-4a58-be67-2cd18574b9a3",
   "metadata": {},
   "source": [
    "## API reference\n",
    "\n",
    "For detailed documentation of all ChatGitHubCopilot features and configurations head to the API reference: https://api.python.langchain.com/en/latest/chat_models/langchain_github_copilot.chat_models.ChatGitHubCopilot.html"
   ]
  },
  {
   "cell_type": "code",
   "execution_count": null,
   "id": "135ffb4d",
   "metadata": {},
   "outputs": [],
   "source": []
  },
  {
   "cell_type": "code",
   "execution_count": null,
   "id": "69ba97eb",
   "metadata": {},
   "outputs": [],
   "source": []
  }
 ],
 "metadata": {
  "kernelspec": {
   "display_name": "langchain-github-copilot",
   "language": "python",
   "name": "python3"
  },
  "language_info": {
   "codemirror_mode": {
    "name": "ipython",
    "version": 3
   },
   "file_extension": ".py",
   "mimetype": "text/x-python",
   "name": "python",
   "nbconvert_exporter": "python",
   "pygments_lexer": "ipython3",
   "version": "3.10.16"
  }
 },
 "nbformat": 4,
 "nbformat_minor": 5
}
